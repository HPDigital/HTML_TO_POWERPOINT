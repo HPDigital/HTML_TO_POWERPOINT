{
 "cells": [
  {
   "cell_type": "code",
   "execution_count": 5,
   "id": "0ea01c03",
   "metadata": {},
   "outputs": [
    {
     "name": "stdout",
     "output_type": "stream",
     "text": [
      "Requirement already satisfied: python-pptx in c:\\users\\hp\\anaconda3\\lib\\site-packages (0.6.23)\n",
      "Requirement already satisfied: lxml>=3.1.0 in c:\\users\\hp\\anaconda3\\lib\\site-packages (from python-pptx) (4.9.3)\n",
      "Requirement already satisfied: Pillow>=3.3.2 in c:\\users\\hp\\anaconda3\\lib\\site-packages (from python-pptx) (10.2.0)\n",
      "Requirement already satisfied: XlsxWriter>=0.5.7 in c:\\users\\hp\\anaconda3\\lib\\site-packages (from python-pptx) (3.2.0)\n"
     ]
    }
   ],
   "source": [
    "!pip install python-pptx\n"
   ]
  },
  {
   "cell_type": "code",
   "execution_count": 7,
   "id": "91c758af",
   "metadata": {},
   "outputs": [
    {
     "name": "stdout",
     "output_type": "stream",
     "text": [
      "Presentación guardada en C:\\Users\\HP\\Downloads\\Presentacion_html.pptx\n"
     ]
    }
   ],
   "source": [
    "from pptx import Presentation\n",
    "from pptx.util import Inches, Pt\n",
    "from bs4 import BeautifulSoup\n",
    "\n",
    "# Cargar el archivo HTML\n",
    "html_file_path = r\"C:\\Users\\HP\\Downloads\\Presentacion_html.html\"\n",
    "with open(html_file_path, 'r', encoding='utf-8') as file:\n",
    "    html_content = file.read()\n",
    "\n",
    "# Parsear el HTML con BeautifulSoup\n",
    "soup = BeautifulSoup(html_content, 'html.parser')\n",
    "\n",
    "# Crear una presentación PowerPoint\n",
    "prs = Presentation()\n",
    "\n",
    "# Establecer el tamaño de fuente predeterminado\n",
    "font_size_h1 = Pt(24)\n",
    "font_size_h2 = Pt(20)\n",
    "font_size_h3 = Pt(18)\n",
    "font_size_p = Pt(14)\n",
    "\n",
    "# Función para añadir una diapositiva con un título y contenido\n",
    "def add_slide(title, content):\n",
    "    slide_layout = prs.slide_layouts[1]  # Título y contenido\n",
    "    slide = prs.slides.add_slide(slide_layout)\n",
    "    title_placeholder = slide.shapes.title\n",
    "    content_placeholder = slide.placeholders[1]\n",
    "\n",
    "    title_placeholder.text = title\n",
    "    content_placeholder.text = content\n",
    "\n",
    "# Función para procesar los elementos HTML y añadirlos a la presentación\n",
    "def process_html(soup):\n",
    "    title = \"\"\n",
    "    content = \"\"\n",
    "    for element in soup.body:\n",
    "        if element.name == 'h1':\n",
    "            if title and content:\n",
    "                add_slide(title, content)\n",
    "            title = element.text\n",
    "            content = \"\"\n",
    "        elif element.name == 'h2':\n",
    "            if content:\n",
    "                content += '\\n\\n'\n",
    "            content += element.text\n",
    "        elif element.name == 'h3':\n",
    "            if content:\n",
    "                content += '\\n'\n",
    "            content += element.text\n",
    "        elif element.name == 'p':\n",
    "            if content:\n",
    "                content += '\\n'\n",
    "            content += element.text\n",
    "        elif element.name == 'ul':\n",
    "            for li in element.find_all('li', recursive=False):\n",
    "                if title and content:\n",
    "                    add_slide(title, content)\n",
    "                title = li.strong.text if li.strong else \"Diapositiva\"\n",
    "                content = \"\\n\".join([li.text for li in li.find_all('li', recursive=False)])\n",
    "\n",
    "    # Añadir la última diapositiva si queda contenido sin añadir\n",
    "    if title and content:\n",
    "        add_slide(title, content)\n",
    "\n",
    "# Procesar el HTML\n",
    "process_html(soup)\n",
    "\n",
    "# Guardar la presentación en un archivo\n",
    "output_file = r\"C:\\Users\\HP\\Downloads\\Presentacion_html.pptx\"\n",
    "prs.save(output_file)\n",
    "print(f\"Presentación guardada en {output_file}\")\n"
   ]
  },
  {
   "cell_type": "code",
   "execution_count": null,
   "id": "e188e918",
   "metadata": {},
   "outputs": [],
   "source": []
  }
 ],
 "metadata": {
  "kernelspec": {
   "display_name": "Python 3 (ipykernel)",
   "language": "python",
   "name": "python3"
  },
  "language_info": {
   "codemirror_mode": {
    "name": "ipython",
    "version": 3
   },
   "file_extension": ".py",
   "mimetype": "text/x-python",
   "name": "python",
   "nbconvert_exporter": "python",
   "pygments_lexer": "ipython3",
   "version": "3.11.7"
  }
 },
 "nbformat": 4,
 "nbformat_minor": 5
}
